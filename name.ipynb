{
 "cells": [
  {
   "cell_type": "code",
   "outputs": [],
   "source": [
    "from firebase_admin import credentials, initialize_app\n",
    "from dotenv import load_dotenv, dotenv_values\n",
    "from firebase_admin import firestore\n",
    "import pandas as pd\n",
    "config = dotenv_values(\".env\")"
   ],
   "metadata": {
    "collapsed": false,
    "ExecuteTime": {
     "end_time": "2024-01-25T23:54:28.779476Z",
     "start_time": "2024-01-25T23:54:28.775647Z"
    }
   },
   "id": "414755ee361d814c",
   "execution_count": 33
  },
  {
   "cell_type": "code",
   "outputs": [
    {
     "ename": "ValueError",
     "evalue": "The default Firebase app already exists. This means you called initialize_app() more than once without providing an app name as the second argument. In most cases you only need to call initialize_app() once. But if you do want to initialize multiple apps, pass a second argument to initialize_app() to give each app a unique name.",
     "output_type": "error",
     "traceback": [
      "\u001B[0;31m---------------------------------------------------------------------------\u001B[0m",
      "\u001B[0;31mValueError\u001B[0m                                Traceback (most recent call last)",
      "Cell \u001B[0;32mIn[34], line 3\u001B[0m\n\u001B[1;32m      1\u001B[0m \u001B[38;5;28;01mimport\u001B[39;00m \u001B[38;5;21;01mos\u001B[39;00m\n\u001B[1;32m      2\u001B[0m cred \u001B[38;5;241m=\u001B[39m credentials\u001B[38;5;241m.\u001B[39mCertificate(config)\n\u001B[0;32m----> 3\u001B[0m \u001B[43minitialize_app\u001B[49m\u001B[43m(\u001B[49m\u001B[43mcred\u001B[49m\u001B[43m)\u001B[49m\n\u001B[1;32m      4\u001B[0m db \u001B[38;5;241m=\u001B[39m firestore\u001B[38;5;241m.\u001B[39mclient()\n",
      "File \u001B[0;32m~/PycharmProjects/pythonProject/.venv/lib/python3.12/site-packages/firebase_admin/__init__.py:73\u001B[0m, in \u001B[0;36minitialize_app\u001B[0;34m(credential, options, name)\u001B[0m\n\u001B[1;32m     70\u001B[0m         \u001B[38;5;28;01mreturn\u001B[39;00m app\n\u001B[1;32m     72\u001B[0m \u001B[38;5;28;01mif\u001B[39;00m name \u001B[38;5;241m==\u001B[39m _DEFAULT_APP_NAME:\n\u001B[0;32m---> 73\u001B[0m     \u001B[38;5;28;01mraise\u001B[39;00m \u001B[38;5;167;01mValueError\u001B[39;00m((\n\u001B[1;32m     74\u001B[0m         \u001B[38;5;124m'\u001B[39m\u001B[38;5;124mThe default Firebase app already exists. This means you called \u001B[39m\u001B[38;5;124m'\u001B[39m\n\u001B[1;32m     75\u001B[0m         \u001B[38;5;124m'\u001B[39m\u001B[38;5;124minitialize_app() more than once without providing an app name as \u001B[39m\u001B[38;5;124m'\u001B[39m\n\u001B[1;32m     76\u001B[0m         \u001B[38;5;124m'\u001B[39m\u001B[38;5;124mthe second argument. In most cases you only need to call \u001B[39m\u001B[38;5;124m'\u001B[39m\n\u001B[1;32m     77\u001B[0m         \u001B[38;5;124m'\u001B[39m\u001B[38;5;124minitialize_app() once. But if you do want to initialize multiple \u001B[39m\u001B[38;5;124m'\u001B[39m\n\u001B[1;32m     78\u001B[0m         \u001B[38;5;124m'\u001B[39m\u001B[38;5;124mapps, pass a second argument to initialize_app() to give each app \u001B[39m\u001B[38;5;124m'\u001B[39m\n\u001B[1;32m     79\u001B[0m         \u001B[38;5;124m'\u001B[39m\u001B[38;5;124ma unique name.\u001B[39m\u001B[38;5;124m'\u001B[39m))\n\u001B[1;32m     81\u001B[0m \u001B[38;5;28;01mraise\u001B[39;00m \u001B[38;5;167;01mValueError\u001B[39;00m((\n\u001B[1;32m     82\u001B[0m     \u001B[38;5;124m'\u001B[39m\u001B[38;5;124mFirebase app named \u001B[39m\u001B[38;5;124m\"\u001B[39m\u001B[38;5;132;01m{0}\u001B[39;00m\u001B[38;5;124m\"\u001B[39m\u001B[38;5;124m already exists. This means you called \u001B[39m\u001B[38;5;124m'\u001B[39m\n\u001B[1;32m     83\u001B[0m     \u001B[38;5;124m'\u001B[39m\u001B[38;5;124minitialize_app() more than once with the same app name as the \u001B[39m\u001B[38;5;124m'\u001B[39m\n\u001B[1;32m     84\u001B[0m     \u001B[38;5;124m'\u001B[39m\u001B[38;5;124msecond argument. Make sure you provide a unique name every time \u001B[39m\u001B[38;5;124m'\u001B[39m\n\u001B[1;32m     85\u001B[0m     \u001B[38;5;124m'\u001B[39m\u001B[38;5;124myou call initialize_app().\u001B[39m\u001B[38;5;124m'\u001B[39m)\u001B[38;5;241m.\u001B[39mformat(name))\n",
      "\u001B[0;31mValueError\u001B[0m: The default Firebase app already exists. This means you called initialize_app() more than once without providing an app name as the second argument. In most cases you only need to call initialize_app() once. But if you do want to initialize multiple apps, pass a second argument to initialize_app() to give each app a unique name."
     ]
    }
   ],
   "source": [
    "import os\n",
    "cred = credentials.Certificate(config)\n",
    "initialize_app(cred)\n",
    "db = firestore.client()"
   ],
   "metadata": {
    "collapsed": false,
    "ExecuteTime": {
     "end_time": "2024-01-25T23:54:31.427918Z",
     "start_time": "2024-01-25T23:54:31.379732Z"
    }
   },
   "id": "4e182317b1923b3b",
   "execution_count": 34
  },
  {
   "cell_type": "code",
   "outputs": [],
   "source": [
    "\n"
   ],
   "metadata": {
    "collapsed": false,
    "ExecuteTime": {
     "start_time": "2024-01-25T23:52:44.568371Z"
    }
   },
   "id": "1fd8cb63f7ed0560",
   "execution_count": null
  },
  {
   "cell_type": "code",
   "outputs": [
    {
     "data": {
      "text/plain": "<generator object Query.stream at 0x10c1c5800>"
     },
     "execution_count": 35,
     "metadata": {},
     "output_type": "execute_result"
    }
   ],
   "source": [
    "data = db.collection('track')\n",
    "docs = data.stream()\n",
    "docs"
   ],
   "metadata": {
    "collapsed": false,
    "ExecuteTime": {
     "end_time": "2024-01-25T23:54:36.077956Z",
     "start_time": "2024-01-25T23:54:36.071902Z"
    }
   },
   "id": "901e2d2d7749bd14",
   "execution_count": 35
  },
  {
   "cell_type": "code",
   "outputs": [],
   "source": [
    "data = []\n",
    "for i in docs:\n",
    "    res = i.to_dict()\n",
    "    data.append(res)"
   ],
   "metadata": {
    "collapsed": false,
    "ExecuteTime": {
     "end_time": "2024-01-25T23:54:39.612895Z",
     "start_time": "2024-01-25T23:54:38.929636Z"
    }
   },
   "id": "e4de3b0354401260",
   "execution_count": 36
  },
  {
   "cell_type": "code",
   "outputs": [
    {
     "data": {
      "text/plain": "                                           track_image  key  \\\n0    https://i.scdn.co/image/ab67616d00001e02749376...    4   \n1    https://i.scdn.co/image/ab67616d00001e02522ae1...   10   \n2    https://i.scdn.co/image/ab67616d00001e02e3db81...   11   \n3    https://i.scdn.co/image/ab67616d00001e02660155...    9   \n4    https://i.scdn.co/image/ab67616d00001e022ae66a...    6   \n..                                                 ...  ...   \n270  https://i.scdn.co/image/ab67616d00001e02982331...    7   \n271  https://i.scdn.co/image/ab67616d00001e02b5db67...   11   \n272  https://i.scdn.co/image/ab67616d00001e02bf5cce...   11   \n273  https://i.scdn.co/image/ab67616d00001e02ae47c3...   11   \n274  https://i.scdn.co/image/ab67616d00001e02daac55...   10   \n\n                   album_id           album_name  valence  liveness  \\\n0    15UAaGEBSQVyujtrEmjfQr        Body Language    0.518    0.0858   \n1    2r3VXU9V3fKvRysjsVy766              About U    0.339    0.0883   \n2    1Pei7Y5MNZQvfkDWds5EWa            More Baby    0.966    0.1100   \n3    3VLY9g3CAG1Y5r2eGVEaZ0             BELLAKEO    0.463    0.1530   \n4    1jTRS4KS666BesH1GUHyEV             AM Remix    0.785    0.0764   \n..                      ...                  ...      ...       ...   \n270  2reFtZBLjA2S5mO0mgFhv8                 Numb    0.584    0.1060   \n271  3Ju5Q2sARG2S7fTFrmMSpe              Burning    0.345    0.0856   \n272  53985D8g3JcGBoULSOYYKX  Seven (feat. Latto)    0.890    0.0815   \n273  2u2IVr3kVR13lr517rvcjM           Kittyponeo    0.788    0.0720   \n274  2H5dBkkhMViquQiltcUzZt                 Wild    0.475    0.0901   \n\n                                track_uri  \\\n0    spotify:track:01hCzxgttMvy4v9760kXke   \n1    spotify:track:01ve4Yns1iSXwBwpNAhOYP   \n2    spotify:track:02QE4LsAj7DBjMRxolGE8a   \n3    spotify:track:05WVKTdZhlIMX4qqMLuo0f   \n4    spotify:track:05bfbizlM5AX6Mf1RRyMho   \n..                                    ...   \n270  spotify:track:7rF8qrVzCGu9gVHO1Q9RdJ   \n271  spotify:track:7wT3G4HhNf7VxoWjVFgiCJ   \n272  spotify:track:7x9aauaA9cu6tyfpHnqDLo   \n273  spotify:track:7yIIeKUxTpn36X6CFJhgEi   \n274  spotify:track:7z8grMV3fvfgDgEFrCdaAU   \n\n                                             artist_id  mode  \\\n0    [5344K3N7rx7kw1HjO8psuq, 1ocnIbhFWM9bSPrd7Hu4z...     0   \n1     [1O3qb3qngNizhIxjy9hFxO, 4pQIDKoWXRw04D9e37QzbP]     0   \n2     [5Igpc9iLZ3YGtKeYfSrrOE, 5ITI6SEoUZMIXXkzCfr4oE]     1   \n3     [12GqGscKJx3aE4t07u7eVZ, 7FNnA9vBm6EKceENgCGRMb]     1   \n4    [5hdhHgpxyniooUiQVaPxQ0, 1vyhD5VmyZ7KMfW5gqLgo...     0   \n..                                                 ...   ...   \n270   [2nm38smINjms1LtczR0Cei, 5oJvmyeWzyeahRtjup3Oys]     1   \n271   [2R7k2SovVWGhTcvPx1JbQv, 7gvpJzKMMMQsdLqWF4SKs7]     1   \n272   [6HaGTQPmzraVmaVxvz6EUc, 3MdXrJWsbVzdn6fe5JYkSQ]     1   \n273                           [4yjm4SvYqC5FFuLbB6TyHr]     0   \n274   [16KSSLMXOdKQ2MHt9bOHTG, 1rH3SUHdkjjouhmAQGC1Ot]     1   \n\n                                          analysis_url  ...  \\\n0    https://api.spotify.com/v1/audio-analysis/01hC...  ...   \n1    https://api.spotify.com/v1/audio-analysis/01ve...  ...   \n2    https://api.spotify.com/v1/audio-analysis/02QE...  ...   \n3    https://api.spotify.com/v1/audio-analysis/05WV...  ...   \n4    https://api.spotify.com/v1/audio-analysis/05bf...  ...   \n..                                                 ...  ...   \n270  https://api.spotify.com/v1/audio-analysis/7rF8...  ...   \n271  https://api.spotify.com/v1/audio-analysis/7wT3...  ...   \n272  https://api.spotify.com/v1/audio-analysis/7x9a...  ...   \n273  https://api.spotify.com/v1/audio-analysis/7yII...  ...   \n274  https://api.spotify.com/v1/audio-analysis/7z8g...  ...   \n\n                   track_id    tempo speechiness  \\\n0    01hCzxgttMvy4v9760kXke  122.964      0.0668   \n1    01ve4Yns1iSXwBwpNAhOYP  125.001      0.0358   \n2    02QE4LsAj7DBjMRxolGE8a  125.996      0.0550   \n3    05WVKTdZhlIMX4qqMLuo0f  180.011      0.1010   \n4    05bfbizlM5AX6Mf1RRyMho  172.031      0.1590   \n..                      ...      ...         ...   \n270  7rF8qrVzCGu9gVHO1Q9RdJ  124.975      0.0349   \n271  7wT3G4HhNf7VxoWjVFgiCJ  124.030      0.0564   \n272  7x9aauaA9cu6tyfpHnqDLo  124.997      0.0434   \n273  7yIIeKUxTpn36X6CFJhgEi  101.032      0.0586   \n274  7z8grMV3fvfgDgEFrCdaAU  123.990      0.0387   \n\n                              track_name  loudness  energy acousticness  \\\n0                          Body Language    -6.859   0.798      0.02360   \n1                                About U    -7.447   0.690      0.00134   \n2                              More Baby    -7.109   0.870      0.00166   \n3                               BELLAKEO    -2.834   0.880      0.05620   \n4                               AM Remix    -5.015   0.655      0.11400   \n..                                   ...       ...     ...          ...   \n270                                 Numb    -7.321   0.734      0.04400   \n271                              Burning    -6.740   0.692      0.14000   \n272  Seven (feat. Latto) (Explicit Ver.)    -4.107   0.832      0.31100   \n273                  Reggaeton Champagne    -7.905   0.678      0.03980   \n274                                 Wild    -7.657   0.634      0.16900   \n\n     instrumentalness                                             genres  \\\n0            0.002720         [pop dance, uk dance, pop dance, uk dance]   \n1            0.001480                                                 []   \n2            0.607000  [bass house, edm, electro house, house, melbou...   \n3            0.060000  [corridos tumbados, sad sierreno, funk pop, fu...   \n4            0.000000  [reggaeton, trap latino, urbano latino, reggae...   \n..                ...                                                ...   \n270          0.009230                              [pop dance, uk dance]   \n271          0.000057                                         [uk dance]   \n272          0.000000                                [k-pop, trap queen]   \n273          0.350000                [reggaeton mexicano, urbano latino]   \n274          0.000888               [deep groove house, house, uk dance]   \n\n     time_signature  \n0                 4  \n1                 4  \n2                 4  \n3                 4  \n4                 4  \n..              ...  \n270               4  \n271               4  \n272               4  \n273               4  \n274               4  \n\n[275 rows x 23 columns]",
      "text/html": "<div>\n<style scoped>\n    .dataframe tbody tr th:only-of-type {\n        vertical-align: middle;\n    }\n\n    .dataframe tbody tr th {\n        vertical-align: top;\n    }\n\n    .dataframe thead th {\n        text-align: right;\n    }\n</style>\n<table border=\"1\" class=\"dataframe\">\n  <thead>\n    <tr style=\"text-align: right;\">\n      <th></th>\n      <th>track_image</th>\n      <th>key</th>\n      <th>album_id</th>\n      <th>album_name</th>\n      <th>valence</th>\n      <th>liveness</th>\n      <th>track_uri</th>\n      <th>artist_id</th>\n      <th>mode</th>\n      <th>analysis_url</th>\n      <th>...</th>\n      <th>track_id</th>\n      <th>tempo</th>\n      <th>speechiness</th>\n      <th>track_name</th>\n      <th>loudness</th>\n      <th>energy</th>\n      <th>acousticness</th>\n      <th>instrumentalness</th>\n      <th>genres</th>\n      <th>time_signature</th>\n    </tr>\n  </thead>\n  <tbody>\n    <tr>\n      <th>0</th>\n      <td>https://i.scdn.co/image/ab67616d00001e02749376...</td>\n      <td>4</td>\n      <td>15UAaGEBSQVyujtrEmjfQr</td>\n      <td>Body Language</td>\n      <td>0.518</td>\n      <td>0.0858</td>\n      <td>spotify:track:01hCzxgttMvy4v9760kXke</td>\n      <td>[5344K3N7rx7kw1HjO8psuq, 1ocnIbhFWM9bSPrd7Hu4z...</td>\n      <td>0</td>\n      <td>https://api.spotify.com/v1/audio-analysis/01hC...</td>\n      <td>...</td>\n      <td>01hCzxgttMvy4v9760kXke</td>\n      <td>122.964</td>\n      <td>0.0668</td>\n      <td>Body Language</td>\n      <td>-6.859</td>\n      <td>0.798</td>\n      <td>0.02360</td>\n      <td>0.002720</td>\n      <td>[pop dance, uk dance, pop dance, uk dance]</td>\n      <td>4</td>\n    </tr>\n    <tr>\n      <th>1</th>\n      <td>https://i.scdn.co/image/ab67616d00001e02522ae1...</td>\n      <td>10</td>\n      <td>2r3VXU9V3fKvRysjsVy766</td>\n      <td>About U</td>\n      <td>0.339</td>\n      <td>0.0883</td>\n      <td>spotify:track:01ve4Yns1iSXwBwpNAhOYP</td>\n      <td>[1O3qb3qngNizhIxjy9hFxO, 4pQIDKoWXRw04D9e37QzbP]</td>\n      <td>0</td>\n      <td>https://api.spotify.com/v1/audio-analysis/01ve...</td>\n      <td>...</td>\n      <td>01ve4Yns1iSXwBwpNAhOYP</td>\n      <td>125.001</td>\n      <td>0.0358</td>\n      <td>About U</td>\n      <td>-7.447</td>\n      <td>0.690</td>\n      <td>0.00134</td>\n      <td>0.001480</td>\n      <td>[]</td>\n      <td>4</td>\n    </tr>\n    <tr>\n      <th>2</th>\n      <td>https://i.scdn.co/image/ab67616d00001e02e3db81...</td>\n      <td>11</td>\n      <td>1Pei7Y5MNZQvfkDWds5EWa</td>\n      <td>More Baby</td>\n      <td>0.966</td>\n      <td>0.1100</td>\n      <td>spotify:track:02QE4LsAj7DBjMRxolGE8a</td>\n      <td>[5Igpc9iLZ3YGtKeYfSrrOE, 5ITI6SEoUZMIXXkzCfr4oE]</td>\n      <td>1</td>\n      <td>https://api.spotify.com/v1/audio-analysis/02QE...</td>\n      <td>...</td>\n      <td>02QE4LsAj7DBjMRxolGE8a</td>\n      <td>125.996</td>\n      <td>0.0550</td>\n      <td>More Baby</td>\n      <td>-7.109</td>\n      <td>0.870</td>\n      <td>0.00166</td>\n      <td>0.607000</td>\n      <td>[bass house, edm, electro house, house, melbou...</td>\n      <td>4</td>\n    </tr>\n    <tr>\n      <th>3</th>\n      <td>https://i.scdn.co/image/ab67616d00001e02660155...</td>\n      <td>9</td>\n      <td>3VLY9g3CAG1Y5r2eGVEaZ0</td>\n      <td>BELLAKEO</td>\n      <td>0.463</td>\n      <td>0.1530</td>\n      <td>spotify:track:05WVKTdZhlIMX4qqMLuo0f</td>\n      <td>[12GqGscKJx3aE4t07u7eVZ, 7FNnA9vBm6EKceENgCGRMb]</td>\n      <td>1</td>\n      <td>https://api.spotify.com/v1/audio-analysis/05WV...</td>\n      <td>...</td>\n      <td>05WVKTdZhlIMX4qqMLuo0f</td>\n      <td>180.011</td>\n      <td>0.1010</td>\n      <td>BELLAKEO</td>\n      <td>-2.834</td>\n      <td>0.880</td>\n      <td>0.05620</td>\n      <td>0.060000</td>\n      <td>[corridos tumbados, sad sierreno, funk pop, fu...</td>\n      <td>4</td>\n    </tr>\n    <tr>\n      <th>4</th>\n      <td>https://i.scdn.co/image/ab67616d00001e022ae66a...</td>\n      <td>6</td>\n      <td>1jTRS4KS666BesH1GUHyEV</td>\n      <td>AM Remix</td>\n      <td>0.785</td>\n      <td>0.0764</td>\n      <td>spotify:track:05bfbizlM5AX6Mf1RRyMho</td>\n      <td>[5hdhHgpxyniooUiQVaPxQ0, 1vyhD5VmyZ7KMfW5gqLgo...</td>\n      <td>0</td>\n      <td>https://api.spotify.com/v1/audio-analysis/05bf...</td>\n      <td>...</td>\n      <td>05bfbizlM5AX6Mf1RRyMho</td>\n      <td>172.031</td>\n      <td>0.1590</td>\n      <td>AM Remix</td>\n      <td>-5.015</td>\n      <td>0.655</td>\n      <td>0.11400</td>\n      <td>0.000000</td>\n      <td>[reggaeton, trap latino, urbano latino, reggae...</td>\n      <td>4</td>\n    </tr>\n    <tr>\n      <th>...</th>\n      <td>...</td>\n      <td>...</td>\n      <td>...</td>\n      <td>...</td>\n      <td>...</td>\n      <td>...</td>\n      <td>...</td>\n      <td>...</td>\n      <td>...</td>\n      <td>...</td>\n      <td>...</td>\n      <td>...</td>\n      <td>...</td>\n      <td>...</td>\n      <td>...</td>\n      <td>...</td>\n      <td>...</td>\n      <td>...</td>\n      <td>...</td>\n      <td>...</td>\n      <td>...</td>\n    </tr>\n    <tr>\n      <th>270</th>\n      <td>https://i.scdn.co/image/ab67616d00001e02982331...</td>\n      <td>7</td>\n      <td>2reFtZBLjA2S5mO0mgFhv8</td>\n      <td>Numb</td>\n      <td>0.584</td>\n      <td>0.1060</td>\n      <td>spotify:track:7rF8qrVzCGu9gVHO1Q9RdJ</td>\n      <td>[2nm38smINjms1LtczR0Cei, 5oJvmyeWzyeahRtjup3Oys]</td>\n      <td>1</td>\n      <td>https://api.spotify.com/v1/audio-analysis/7rF8...</td>\n      <td>...</td>\n      <td>7rF8qrVzCGu9gVHO1Q9RdJ</td>\n      <td>124.975</td>\n      <td>0.0349</td>\n      <td>Numb</td>\n      <td>-7.321</td>\n      <td>0.734</td>\n      <td>0.04400</td>\n      <td>0.009230</td>\n      <td>[pop dance, uk dance]</td>\n      <td>4</td>\n    </tr>\n    <tr>\n      <th>271</th>\n      <td>https://i.scdn.co/image/ab67616d00001e02b5db67...</td>\n      <td>11</td>\n      <td>3Ju5Q2sARG2S7fTFrmMSpe</td>\n      <td>Burning</td>\n      <td>0.345</td>\n      <td>0.0856</td>\n      <td>spotify:track:7wT3G4HhNf7VxoWjVFgiCJ</td>\n      <td>[2R7k2SovVWGhTcvPx1JbQv, 7gvpJzKMMMQsdLqWF4SKs7]</td>\n      <td>1</td>\n      <td>https://api.spotify.com/v1/audio-analysis/7wT3...</td>\n      <td>...</td>\n      <td>7wT3G4HhNf7VxoWjVFgiCJ</td>\n      <td>124.030</td>\n      <td>0.0564</td>\n      <td>Burning</td>\n      <td>-6.740</td>\n      <td>0.692</td>\n      <td>0.14000</td>\n      <td>0.000057</td>\n      <td>[uk dance]</td>\n      <td>4</td>\n    </tr>\n    <tr>\n      <th>272</th>\n      <td>https://i.scdn.co/image/ab67616d00001e02bf5cce...</td>\n      <td>11</td>\n      <td>53985D8g3JcGBoULSOYYKX</td>\n      <td>Seven (feat. Latto)</td>\n      <td>0.890</td>\n      <td>0.0815</td>\n      <td>spotify:track:7x9aauaA9cu6tyfpHnqDLo</td>\n      <td>[6HaGTQPmzraVmaVxvz6EUc, 3MdXrJWsbVzdn6fe5JYkSQ]</td>\n      <td>1</td>\n      <td>https://api.spotify.com/v1/audio-analysis/7x9a...</td>\n      <td>...</td>\n      <td>7x9aauaA9cu6tyfpHnqDLo</td>\n      <td>124.997</td>\n      <td>0.0434</td>\n      <td>Seven (feat. Latto) (Explicit Ver.)</td>\n      <td>-4.107</td>\n      <td>0.832</td>\n      <td>0.31100</td>\n      <td>0.000000</td>\n      <td>[k-pop, trap queen]</td>\n      <td>4</td>\n    </tr>\n    <tr>\n      <th>273</th>\n      <td>https://i.scdn.co/image/ab67616d00001e02ae47c3...</td>\n      <td>11</td>\n      <td>2u2IVr3kVR13lr517rvcjM</td>\n      <td>Kittyponeo</td>\n      <td>0.788</td>\n      <td>0.0720</td>\n      <td>spotify:track:7yIIeKUxTpn36X6CFJhgEi</td>\n      <td>[4yjm4SvYqC5FFuLbB6TyHr]</td>\n      <td>0</td>\n      <td>https://api.spotify.com/v1/audio-analysis/7yII...</td>\n      <td>...</td>\n      <td>7yIIeKUxTpn36X6CFJhgEi</td>\n      <td>101.032</td>\n      <td>0.0586</td>\n      <td>Reggaeton Champagne</td>\n      <td>-7.905</td>\n      <td>0.678</td>\n      <td>0.03980</td>\n      <td>0.350000</td>\n      <td>[reggaeton mexicano, urbano latino]</td>\n      <td>4</td>\n    </tr>\n    <tr>\n      <th>274</th>\n      <td>https://i.scdn.co/image/ab67616d00001e02daac55...</td>\n      <td>10</td>\n      <td>2H5dBkkhMViquQiltcUzZt</td>\n      <td>Wild</td>\n      <td>0.475</td>\n      <td>0.0901</td>\n      <td>spotify:track:7z8grMV3fvfgDgEFrCdaAU</td>\n      <td>[16KSSLMXOdKQ2MHt9bOHTG, 1rH3SUHdkjjouhmAQGC1Ot]</td>\n      <td>1</td>\n      <td>https://api.spotify.com/v1/audio-analysis/7z8g...</td>\n      <td>...</td>\n      <td>7z8grMV3fvfgDgEFrCdaAU</td>\n      <td>123.990</td>\n      <td>0.0387</td>\n      <td>Wild</td>\n      <td>-7.657</td>\n      <td>0.634</td>\n      <td>0.16900</td>\n      <td>0.000888</td>\n      <td>[deep groove house, house, uk dance]</td>\n      <td>4</td>\n    </tr>\n  </tbody>\n</table>\n<p>275 rows × 23 columns</p>\n</div>"
     },
     "execution_count": 37,
     "metadata": {},
     "output_type": "execute_result"
    }
   ],
   "source": [
    "df = pd.DataFrame(data)\n",
    "df"
   ],
   "metadata": {
    "collapsed": false,
    "ExecuteTime": {
     "end_time": "2024-01-25T23:54:46.337699Z",
     "start_time": "2024-01-25T23:54:46.312720Z"
    }
   },
   "id": "e21c0fb82349d8ac",
   "execution_count": 37
  },
  {
   "cell_type": "code",
   "outputs": [],
   "source": [],
   "metadata": {
    "collapsed": false,
    "ExecuteTime": {
     "start_time": "2024-01-25T23:52:44.572411Z"
    }
   },
   "id": "d03e614ec804bce4",
   "execution_count": null
  }
 ],
 "metadata": {
  "kernelspec": {
   "display_name": "Python 3",
   "language": "python",
   "name": "python3"
  },
  "language_info": {
   "codemirror_mode": {
    "name": "ipython",
    "version": 2
   },
   "file_extension": ".py",
   "mimetype": "text/x-python",
   "name": "python",
   "nbconvert_exporter": "python",
   "pygments_lexer": "ipython2",
   "version": "2.7.6"
  }
 },
 "nbformat": 4,
 "nbformat_minor": 5
}
